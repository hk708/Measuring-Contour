{
 "cells": [
  {
   "cell_type": "code",
   "execution_count": 120,
   "metadata": {
    "id": "dNKOp_IXB1VM"
   },
   "outputs": [],
   "source": [
    "import matplotlib.pyplot as plt\n",
    "from matplotlib.collections import LineCollection\n",
    "from matplotlib import collections  as mc"
   ]
  },
  {
   "cell_type": "markdown",
   "metadata": {
    "id": "4XPkvELIMz3C"
   },
   "source": [
    "READING OF INPUT RECTANGLE COORDINATES AND OUTPUT CONTOURS"
   ]
  },
  {
   "cell_type": "code",
   "execution_count": 121,
   "metadata": {
    "id": "7bf2BAAyDGG2"
   },
   "outputs": [],
   "source": [
    "f1 = open(\"input.txt\",\"r\")\n",
    "f2 = open(\"output.txt\",\"r\")"
   ]
  },
  {
   "cell_type": "code",
   "execution_count": 122,
   "metadata": {
    "colab": {
     "base_uri": "https://localhost:8080/"
    },
    "id": "nT73LeOMEGJx",
    "outputId": "5efa2015-6364-4434-d94f-dbd58dc1cfb8"
   },
   "outputs": [
    {
     "name": "stdout",
     "output_type": "stream",
     "text": [
      "[[(1.0, 1.0), (1.0, 4.0)], [(4.0, 1.0), (4.0, 4.0)], [(1.0, 1.0), (4.0, 1.0)], [(1.0, 4.0), (4.0, 4.0)], [(5.0, 5.0), (5.0, 7.0)], [(7.0, 5.0), (7.0, 7.0)], [(5.0, 5.0), (7.0, 5.0)], [(5.0, 7.0), (7.0, 7.0)], [(-1.0, -1.0), (-1.0, 2.0)], [(2.0, -1.0), (2.0, 2.0)], [(-1.0, -1.0), (2.0, -1.0)], [(-1.0, 2.0), (2.0, 2.0)]]\n"
     ]
    }
   ],
   "source": [
    "\n",
    "inp = []\n",
    "\n",
    "for i,line in enumerate(f1):\n",
    "  new_line = line.replace('(',\" \")\n",
    "  new_line = new_line.replace(')',\" \")\n",
    "  new_line = new_line.replace(\",\",\" \")\n",
    "  new_line = new_line.split(\" \")\n",
    "  tuple_list = []\n",
    "  tuple_list.append((float(new_line[1]),float(new_line[2])))\n",
    "  tuple_list.append((float(new_line[5]),float(new_line[6])))\n",
    "  inp.append(tuple_list)\n",
    "print(inp)"
   ]
  },
  {
   "cell_type": "code",
   "execution_count": 123,
   "metadata": {
    "colab": {
     "base_uri": "https://localhost:8080/"
    },
    "id": "Rwjl2V6QHCOt",
    "outputId": "efa820a2-b89b-435c-8a5d-9c4a603d7a8c"
   },
   "outputs": [
    {
     "name": "stdout",
     "output_type": "stream",
     "text": [
      "[[(-1.0, -1.0), (2.0, -1.0)], [(2.0, 1.0), (4.0, 1.0)], [(-1.0, 2.0), (1.0, 2.0)], [(1.0, 4.0), (4.0, 4.0)], [(5.0, 5.0), (7.0, 5.0)], [(5.0, 7.0), (7.0, 7.0)], [(-1.0, -1.0), (-1.0, 2.0)], [(1.0, 2.0), (1.0, 4.0)], [(2.0, -1.0), (2.0, 1.0)], [(4.0, 1.0), (4.0, 4.0)], [(5.0, 5.0), (5.0, 7.0)], [(7.0, 5.0), (7.0, 7.0)]]\n"
     ]
    }
   ],
   "source": [
    "\n",
    "oup = []\n",
    "\n",
    "for i,line in enumerate(f2):\n",
    "  new_line = line.replace('(',\" \")\n",
    "  new_line = new_line.replace(')',\" \")\n",
    "  new_line = new_line.replace(\",\",\" \")\n",
    "  new_line = new_line.split(\" \")\n",
    "  tuple_list = []\n",
    "  tuple_list.append((float(new_line[1]),float(new_line[2])))\n",
    "  tuple_list.append((float(new_line[5]),float(new_line[6])))\n",
    "  oup.append(tuple_list)\n",
    "print(oup)"
   ]
  },
  {
   "cell_type": "code",
   "execution_count": 124,
   "metadata": {
    "id": "-DPKH0wzHKTt"
   },
   "outputs": [],
   "source": [
    "inp_lines = mc.LineCollection(oup, colors='b', linewidths=3)\n",
    "out_lines = mc.LineCollection(inp, colors='r', linewidths=3)"
   ]
  },
  {
   "cell_type": "markdown",
   "metadata": {
    "id": "VjwrGwgcM6TI"
   },
   "source": [
    "PLOTTING THE VERTICES OF THE RECTANGLES IN THE INPUT AND OUTPUT FILES"
   ]
  },
  {
   "cell_type": "code",
   "execution_count": 125,
   "metadata": {
    "colab": {
     "base_uri": "https://localhost:8080/",
     "height": 310
    },
    "id": "qNG7QKwMHSyl",
    "outputId": "d94c8d6b-8e30-4d2b-e441-1801f8c08da8"
   },
   "outputs": [
    {
     "data": {
      "image/png": "[encoded data removed]",
      "text/plain": [
       "<Figure size 432x288 with 1 Axes>"
      ]
     },
     "metadata": {
      "needs_background": "light",
      "tags": []
     },
     "output_type": "display_data"
    }
   ],
   "source": [
    "fig, ax1 = plt.subplots()\n",
    "ax1.add_collection(out_lines)\n",
    "ax1.autoscale()\n",
    "ax1.margins(0.1)\n",
    "ax1.add_collection(inp_lines)\n",
    "plt.xlabel(\"X_coordinate\",color = 'green',fontsize = 20)\n",
    "plt.ylabel(\"Y_coordinate\",color = \"orange\",fontsize = 20)\n",
    "plt.title('VISUALIZATION OF RECTANGLES',fontsize = 20,color = 'Magenta')\n",
    "plt.show()"
   ]
  }
 ],
 "metadata": {
  "colab": {
   "name": "Contour_Visualization",
   "provenance": []
  },
  "kernelspec": {
   "display_name": "Python 3",
   "language": "python",
   "name": "python3"
  },
  "language_info": {
   "codemirror_mode": {
    "name": "ipython",
    "version": 3
   },
   "file_extension": ".py",
   "mimetype": "text/x-python",
   "name": "python",
   "nbconvert_exporter": "python",
   "pygments_lexer": "ipython3",
   "version": "3.8.3"
  }
 },
 "nbformat": 4,
 "nbformat_minor": 1
}
